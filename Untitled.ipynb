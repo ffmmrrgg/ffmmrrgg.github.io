{
 "cells": [
  {
   "cell_type": "code",
   "execution_count": 20,
   "metadata": {},
   "outputs": [
    {
     "name": "stdout",
     "output_type": "stream",
     "text": [
      "Defaulting to user installation because normal site-packages is not writeable\n",
      "Collecting pandas\n",
      "  Using cached pandas-1.2.1-cp38-cp38-manylinux1_x86_64.whl (9.7 MB)\n",
      "Requirement already satisfied: python-dateutil>=2.7.3 in /usr/lib/python3/dist-packages (from pandas) (2.7.3)\n",
      "Requirement already satisfied: pytz>=2017.3 in /usr/lib/python3/dist-packages (from pandas) (2019.3)\n",
      "Collecting numpy>=1.16.5\n",
      "  Downloading numpy-1.20.1-cp38-cp38-manylinux2010_x86_64.whl (15.4 MB)\n",
      "\u001b[K     |████████████████████████████████| 15.4 MB 9.1 MB/s eta 0:00:01\n",
      "\u001b[?25hInstalling collected packages: numpy, pandas\n",
      "Successfully installed numpy-1.20.1 pandas-1.2.1\n",
      "\u001b[33mWARNING: You are using pip version 20.3.3; however, version 21.0.1 is available.\n",
      "You should consider upgrading via the '/usr/bin/python3 -m pip install --upgrade pip' command.\u001b[0m\n",
      "Note: you may need to restart the kernel to use updated packages.\n"
     ]
    }
   ],
   "source": [
    "pip install pandas"
   ]
  },
  {
   "cell_type": "code",
   "execution_count": 1,
   "metadata": {},
   "outputs": [],
   "source": [
    "import oyaml as yaml\n",
    "import pandas as pd\n",
    "import json"
   ]
  },
  {
   "cell_type": "code",
   "execution_count": 2,
   "metadata": {},
   "outputs": [],
   "source": [
    "import yaml\n",
    "with open('./_config.yaml') as file:\n",
    "    # The FullLoader parameter handles the conversion from YAML\n",
    "    # scalar values to Python the dictionary format\n",
    "    data = yaml.load(file, Loader=yaml.FullLoader)\n",
    "\n"
   ]
  },
  {
   "cell_type": "code",
   "execution_count": 9,
   "metadata": {},
   "outputs": [
    {
     "data": {
      "text/html": [
       "<div>\n",
       "<style scoped>\n",
       "    .dataframe tbody tr th:only-of-type {\n",
       "        vertical-align: middle;\n",
       "    }\n",
       "\n",
       "    .dataframe tbody tr th {\n",
       "        vertical-align: top;\n",
       "    }\n",
       "\n",
       "    .dataframe thead th {\n",
       "        text-align: right;\n",
       "    }\n",
       "</style>\n",
       "<table border=\"1\" class=\"dataframe\">\n",
       "  <thead>\n",
       "    <tr style=\"text-align: right;\">\n",
       "      <th></th>\n",
       "      <th>enlaces</th>\n",
       "    </tr>\n",
       "  </thead>\n",
       "  <tbody>\n",
       "    <tr>\n",
       "      <th>card0</th>\n",
       "      <td>{'title': 'Directiva 2012/27/UE relativa a la ...</td>\n",
       "    </tr>\n",
       "    <tr>\n",
       "      <th>card1</th>\n",
       "      <td>{'title': 'AEE SPAIN CHAPTER', 'href': 'http:/...</td>\n",
       "    </tr>\n",
       "    <tr>\n",
       "      <th>card11</th>\n",
       "      <td>{'title': 'CIRCE', 'href': 'https://www.fcirce...</td>\n",
       "    </tr>\n",
       "    <tr>\n",
       "      <th>card2</th>\n",
       "      <td>{'title': 'CNMC', 'href': 'https://facturaluz2...</td>\n",
       "    </tr>\n",
       "    <tr>\n",
       "      <th>card20</th>\n",
       "      <td>{'title': 'pvgis', 'href': 'https://ec.europa....</td>\n",
       "    </tr>\n",
       "    <tr>\n",
       "      <th>card21</th>\n",
       "      <td>{'title': 'PV &amp; Solar Maps', 'href': 'https://...</td>\n",
       "    </tr>\n",
       "    <tr>\n",
       "      <th>card22</th>\n",
       "      <td>{'title': 'Sunny Design', 'href': 'https://www...</td>\n",
       "    </tr>\n",
       "    <tr>\n",
       "      <th>card23</th>\n",
       "      <td>{'title': 'pvsyst', 'href': 'https://www.pvsys...</td>\n",
       "    </tr>\n",
       "    <tr>\n",
       "      <th>card3</th>\n",
       "      <td>{'title': 'IDAE', 'href': 'https://www.idae.es...</td>\n",
       "    </tr>\n",
       "    <tr>\n",
       "      <th>card4</th>\n",
       "      <td>{'title': 'IDAE Instalaciones de energía solar...</td>\n",
       "    </tr>\n",
       "    <tr>\n",
       "      <th>card5</th>\n",
       "      <td>{'title': 'IDAE Instalaciones de energía solar...</td>\n",
       "    </tr>\n",
       "    <tr>\n",
       "      <th>card6</th>\n",
       "      <td>{'title': 'RD 44/2019', 'href': 'https://boe.e...</td>\n",
       "    </tr>\n",
       "    <tr>\n",
       "      <th>card7</th>\n",
       "      <td>{'title': 'MANUAL DE LA SECRETARÍA GENERAL DE ...</td>\n",
       "    </tr>\n",
       "    <tr>\n",
       "      <th>card8</th>\n",
       "      <td>{'title': 'REBT', 'href': 'http://www.f2i2.net...</td>\n",
       "    </tr>\n",
       "  </tbody>\n",
       "</table>\n",
       "</div>"
      ],
      "text/plain": [
       "                                                  enlaces\n",
       "card0   {'title': 'Directiva 2012/27/UE relativa a la ...\n",
       "card1   {'title': 'AEE SPAIN CHAPTER', 'href': 'http:/...\n",
       "card11  {'title': 'CIRCE', 'href': 'https://www.fcirce...\n",
       "card2   {'title': 'CNMC', 'href': 'https://facturaluz2...\n",
       "card20  {'title': 'pvgis', 'href': 'https://ec.europa....\n",
       "card21  {'title': 'PV & Solar Maps', 'href': 'https://...\n",
       "card22  {'title': 'Sunny Design', 'href': 'https://www...\n",
       "card23  {'title': 'pvsyst', 'href': 'https://www.pvsys...\n",
       "card3   {'title': 'IDAE', 'href': 'https://www.idae.es...\n",
       "card4   {'title': 'IDAE Instalaciones de energía solar...\n",
       "card5   {'title': 'IDAE Instalaciones de energía solar...\n",
       "card6   {'title': 'RD 44/2019', 'href': 'https://boe.e...\n",
       "card7   {'title': 'MANUAL DE LA SECRETARÍA GENERAL DE ...\n",
       "card8   {'title': 'REBT', 'href': 'http://www.f2i2.net..."
      ]
     },
     "execution_count": 9,
     "metadata": {},
     "output_type": "execute_result"
    }
   ],
   "source": [
    "pd.DataFrame.from_dict(newDict, orient=\"index\",columns=[\"one\", \"two\", \"three\"],)\n",
    "pd.DataFrame.from_dict(newDict)"
   ]
  },
  {
   "cell_type": "code",
   "execution_count": 3,
   "metadata": {},
   "outputs": [],
   "source": [
    "def filterTheDict(dictObj, callback):\n",
    "    newDict = dict()\n",
    "    # Iterate over all the items in dictionary\n",
    "    for (key, value) in dictObj.items():\n",
    "        # Check if item satisfies the given condition then add to new dict\n",
    "        if callback((key, value)):\n",
    "            newDict[key] = value\n",
    "    return newDict"
   ]
  },
  {
   "cell_type": "code",
   "execution_count": 4,
   "metadata": {},
   "outputs": [
    {
     "data": {
      "text/plain": [
       "{'enlaces': {'card0': {'title': 'Directiva 2012/27/UE relativa a la eficiencia energética',\n",
       "   'href': 'https://eur-lex.europa.eu/legal-content/ES/ALL/?uri=CELEX%3A32012L0027',\n",
       "   'src': None,\n",
       "   'tags': ['Autoconsumo', 'tecnica']},\n",
       "  'card1': {'title': 'AEE SPAIN CHAPTER',\n",
       "   'href': 'http://www.aeespain.org/aee-spain-charter/',\n",
       "   'tags': ['Autoconsumo', 'Certificados']},\n",
       "  'card11': {'title': 'CIRCE',\n",
       "   'href': 'https://www.fcirce.es/certificacion-de-auditores-energeticos',\n",
       "   'tags': ['Autoconsumo', 'Certificados']},\n",
       "  'card2': {'title': 'CNMC',\n",
       "   'href': 'https://facturaluz2.cnmc.es/facturaluz2.html',\n",
       "   'src': 'https://www.cnmc.es/sites/default/files/CNMC_Logotipo.png',\n",
       "   'tags': ['Autoconsumo', 'tecnica']},\n",
       "  'card3': {'title': 'IDAE',\n",
       "   'href': 'https://www.idae.es',\n",
       "   'src': 'https://www.idae.es/profiles/idae/themes/idae_static/logo.png',\n",
       "   'tags': ['Autoconsumo', 'tecnica']},\n",
       "  'card4': {'title': 'IDAE Instalaciones de energía solar fotovoltaica. Pliego de condiciones técnicas de instalaciones conectadas a red',\n",
       "   'href': 'https://www.idae.es/en/publications/instalaciones-de-energia-solar-fotovoltaica-pliego-de-condiciones-tecnicas-de-instalaciones-aisladas',\n",
       "   'src': None,\n",
       "   'tags': ['Autoconsumo', 'tecnica']},\n",
       "  'card5': {'title': 'IDAE Instalaciones de energía solar fotovoltaica. Pliego de condiciones técnicas de instalaciones aisladas de red',\n",
       "   'href': 'https://eur-lex.europa.eu/legal-content/ES/ALL/?uri=CELEX%3A32012L0027',\n",
       "   'src': None,\n",
       "   'tags': ['Autoconsumo', 'tecnica']},\n",
       "  'card6': {'title': 'RD 44/2019',\n",
       "   'href': 'https://boe.es/boe/dias/2019/04/06/pdfs/BOE-A-2019-5089.pdf',\n",
       "   'src': None,\n",
       "   'tags': ['Autoconsumo', 'administrativa']},\n",
       "  'card7': {'title': 'MANUAL DE LA SECRETARÍA GENERAL DE INDUSTRIA, ENERGÍA Y MINAS PARA LA TRAMITACIÓN ADMINISTRATIVA DE LAS INSTALACIONES DE GENERACIÓN DE ENERGÍA ELÉCTRICA EN RÉGIMEN DE AUTOCONSUMO EN LA COMUNIDAD AUTÓNOMA DE ANDALUCÍA',\n",
       "   'href': 'https://www.juntadeandalucia.es/export/drupaljda/20191118_Manual%20Autoconsumo%20Tras%20RD%20244%20v7.pdf',\n",
       "   'src': None,\n",
       "   'tags': ['Autoconsumo', 'administrativa']},\n",
       "  'card8': {'title': 'REBT',\n",
       "   'href': 'http://www.f2i2.net/legislacionseguridadindustrial/rebt_guia.aspx',\n",
       "   'src': None,\n",
       "   'tags': ['Autoconsumo', 'tecnica']},\n",
       "  'card20': {'title': 'pvgis',\n",
       "   'href': 'https://ec.europa.eu/jrc/en/pvgis',\n",
       "   'src': None,\n",
       "   'tags': ['Autoconsumo', 'Software']},\n",
       "  'card21': {'title': 'PV & Solar Maps',\n",
       "   'href': 'https://www.nrcan.gc.ca/maps-tools-publications/tools/modelling-tools/7417',\n",
       "   'src': None,\n",
       "   'tags': ['Autoconsumo', 'Software']},\n",
       "  'card22': {'title': 'Sunny Design',\n",
       "   'href': 'https://www.sunnydesignweb.com/sdweb/#/',\n",
       "   'src': None,\n",
       "   'tags': ['Autoconsumo', 'Software']},\n",
       "  'card23': {'title': 'pvsyst',\n",
       "   'href': 'https://www.pvsyst.com/',\n",
       "   'src': None,\n",
       "   'tags': ['Autoconsumo', 'Software']}}}"
      ]
     },
     "execution_count": 4,
     "metadata": {},
     "output_type": "execute_result"
    }
   ],
   "source": [
    "newDict = filterTheDict(data, lambda elem : elem[0] == 'enlaces')\n",
    "newDict"
   ]
  },
  {
   "cell_type": "code",
   "execution_count": 38,
   "metadata": {},
   "outputs": [
    {
     "data": {
      "text/plain": [
       "{}"
      ]
     },
     "execution_count": 38,
     "metadata": {},
     "output_type": "execute_result"
    }
   ],
   "source": [
    "newDict1 = filterTheDict(newDict, lambda elem : elem[0] == 'title')\n",
    "newDict1"
   ]
  },
  {
   "cell_type": "code",
   "execution_count": null,
   "metadata": {},
   "outputs": [],
   "source": []
  },
  {
   "cell_type": "code",
   "execution_count": null,
   "metadata": {},
   "outputs": [],
   "source": []
  }
 ],
 "metadata": {
  "kernelspec": {
   "display_name": "Python 3",
   "language": "python",
   "name": "python3"
  },
  "language_info": {
   "codemirror_mode": {
    "name": "ipython",
    "version": 3
   },
   "file_extension": ".py",
   "mimetype": "text/x-python",
   "name": "python",
   "nbconvert_exporter": "python",
   "pygments_lexer": "ipython3",
   "version": "3.8.5"
  }
 },
 "nbformat": 4,
 "nbformat_minor": 4
}
